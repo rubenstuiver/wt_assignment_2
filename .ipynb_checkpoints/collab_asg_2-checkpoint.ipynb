{
 "cells": [
  {
   "cell_type": "markdown",
   "id": "24021ecf",
   "metadata": {
    "heading_collapsed": true
   },
   "source": [
    "## loading data"
   ]
  },
  {
   "cell_type": "code",
   "execution_count": 1,
   "id": "b28de41d",
   "metadata": {
    "hidden": true
   },
   "outputs": [],
   "source": [
    "import pandas as pd\n",
    "import numpy as np\n",
    "import sklearn"
   ]
  },
  {
   "cell_type": "code",
   "execution_count": 2,
   "id": "92724d19",
   "metadata": {
    "hidden": true
   },
   "outputs": [
    {
     "data": {
      "text/html": [
       "<div>\n",
       "<style scoped>\n",
       "    .dataframe tbody tr th:only-of-type {\n",
       "        vertical-align: middle;\n",
       "    }\n",
       "\n",
       "    .dataframe tbody tr th {\n",
       "        vertical-align: top;\n",
       "    }\n",
       "\n",
       "    .dataframe thead th {\n",
       "        text-align: right;\n",
       "    }\n",
       "</style>\n",
       "<table border=\"1\" class=\"dataframe\">\n",
       "  <thead>\n",
       "    <tr style=\"text-align: right;\">\n",
       "      <th></th>\n",
       "      <th>ID</th>\n",
       "      <th>Source</th>\n",
       "      <th>TMC</th>\n",
       "      <th>Severity</th>\n",
       "      <th>Start_Time</th>\n",
       "      <th>End_Time</th>\n",
       "      <th>Start_Lat</th>\n",
       "      <th>Start_Lng</th>\n",
       "      <th>End_Lat</th>\n",
       "      <th>End_Lng</th>\n",
       "      <th>...</th>\n",
       "      <th>Roundabout</th>\n",
       "      <th>Station</th>\n",
       "      <th>Stop</th>\n",
       "      <th>Traffic_Calming</th>\n",
       "      <th>Traffic_Signal</th>\n",
       "      <th>Turning_Loop</th>\n",
       "      <th>Sunrise_Sunset</th>\n",
       "      <th>Civil_Twilight</th>\n",
       "      <th>Nautical_Twilight</th>\n",
       "      <th>Astronomical_Twilight</th>\n",
       "    </tr>\n",
       "  </thead>\n",
       "  <tbody>\n",
       "    <tr>\n",
       "      <th>0</th>\n",
       "      <td>A-1</td>\n",
       "      <td>MapQuest</td>\n",
       "      <td>201.0</td>\n",
       "      <td>3</td>\n",
       "      <td>2016-02-08 05:46:00</td>\n",
       "      <td>2016-02-08 11:00:00</td>\n",
       "      <td>39.865147</td>\n",
       "      <td>-84.058723</td>\n",
       "      <td>NaN</td>\n",
       "      <td>NaN</td>\n",
       "      <td>...</td>\n",
       "      <td>False</td>\n",
       "      <td>False</td>\n",
       "      <td>False</td>\n",
       "      <td>False</td>\n",
       "      <td>False</td>\n",
       "      <td>False</td>\n",
       "      <td>Night</td>\n",
       "      <td>Night</td>\n",
       "      <td>Night</td>\n",
       "      <td>Night</td>\n",
       "    </tr>\n",
       "    <tr>\n",
       "      <th>1</th>\n",
       "      <td>A-2</td>\n",
       "      <td>MapQuest</td>\n",
       "      <td>201.0</td>\n",
       "      <td>2</td>\n",
       "      <td>2016-02-08 06:07:59</td>\n",
       "      <td>2016-02-08 06:37:59</td>\n",
       "      <td>39.928059</td>\n",
       "      <td>-82.831184</td>\n",
       "      <td>NaN</td>\n",
       "      <td>NaN</td>\n",
       "      <td>...</td>\n",
       "      <td>False</td>\n",
       "      <td>False</td>\n",
       "      <td>False</td>\n",
       "      <td>False</td>\n",
       "      <td>False</td>\n",
       "      <td>False</td>\n",
       "      <td>Night</td>\n",
       "      <td>Night</td>\n",
       "      <td>Night</td>\n",
       "      <td>Day</td>\n",
       "    </tr>\n",
       "    <tr>\n",
       "      <th>2</th>\n",
       "      <td>A-3</td>\n",
       "      <td>MapQuest</td>\n",
       "      <td>201.0</td>\n",
       "      <td>2</td>\n",
       "      <td>2016-02-08 06:49:27</td>\n",
       "      <td>2016-02-08 07:19:27</td>\n",
       "      <td>39.063148</td>\n",
       "      <td>-84.032608</td>\n",
       "      <td>NaN</td>\n",
       "      <td>NaN</td>\n",
       "      <td>...</td>\n",
       "      <td>False</td>\n",
       "      <td>False</td>\n",
       "      <td>False</td>\n",
       "      <td>False</td>\n",
       "      <td>True</td>\n",
       "      <td>False</td>\n",
       "      <td>Night</td>\n",
       "      <td>Night</td>\n",
       "      <td>Day</td>\n",
       "      <td>Day</td>\n",
       "    </tr>\n",
       "    <tr>\n",
       "      <th>3</th>\n",
       "      <td>A-4</td>\n",
       "      <td>MapQuest</td>\n",
       "      <td>201.0</td>\n",
       "      <td>3</td>\n",
       "      <td>2016-02-08 07:23:34</td>\n",
       "      <td>2016-02-08 07:53:34</td>\n",
       "      <td>39.747753</td>\n",
       "      <td>-84.205582</td>\n",
       "      <td>NaN</td>\n",
       "      <td>NaN</td>\n",
       "      <td>...</td>\n",
       "      <td>False</td>\n",
       "      <td>False</td>\n",
       "      <td>False</td>\n",
       "      <td>False</td>\n",
       "      <td>False</td>\n",
       "      <td>False</td>\n",
       "      <td>Night</td>\n",
       "      <td>Day</td>\n",
       "      <td>Day</td>\n",
       "      <td>Day</td>\n",
       "    </tr>\n",
       "    <tr>\n",
       "      <th>4</th>\n",
       "      <td>A-5</td>\n",
       "      <td>MapQuest</td>\n",
       "      <td>201.0</td>\n",
       "      <td>2</td>\n",
       "      <td>2016-02-08 07:39:07</td>\n",
       "      <td>2016-02-08 08:09:07</td>\n",
       "      <td>39.627781</td>\n",
       "      <td>-84.188354</td>\n",
       "      <td>NaN</td>\n",
       "      <td>NaN</td>\n",
       "      <td>...</td>\n",
       "      <td>False</td>\n",
       "      <td>False</td>\n",
       "      <td>False</td>\n",
       "      <td>False</td>\n",
       "      <td>True</td>\n",
       "      <td>False</td>\n",
       "      <td>Day</td>\n",
       "      <td>Day</td>\n",
       "      <td>Day</td>\n",
       "      <td>Day</td>\n",
       "    </tr>\n",
       "    <tr>\n",
       "      <th>...</th>\n",
       "      <td>...</td>\n",
       "      <td>...</td>\n",
       "      <td>...</td>\n",
       "      <td>...</td>\n",
       "      <td>...</td>\n",
       "      <td>...</td>\n",
       "      <td>...</td>\n",
       "      <td>...</td>\n",
       "      <td>...</td>\n",
       "      <td>...</td>\n",
       "      <td>...</td>\n",
       "      <td>...</td>\n",
       "      <td>...</td>\n",
       "      <td>...</td>\n",
       "      <td>...</td>\n",
       "      <td>...</td>\n",
       "      <td>...</td>\n",
       "      <td>...</td>\n",
       "      <td>...</td>\n",
       "      <td>...</td>\n",
       "      <td>...</td>\n",
       "    </tr>\n",
       "    <tr>\n",
       "      <th>3513612</th>\n",
       "      <td>A-3513776</td>\n",
       "      <td>Bing</td>\n",
       "      <td>NaN</td>\n",
       "      <td>2</td>\n",
       "      <td>2019-08-23 18:03:25</td>\n",
       "      <td>2019-08-23 18:32:01</td>\n",
       "      <td>34.002480</td>\n",
       "      <td>-117.379360</td>\n",
       "      <td>33.99888</td>\n",
       "      <td>-117.37094</td>\n",
       "      <td>...</td>\n",
       "      <td>False</td>\n",
       "      <td>False</td>\n",
       "      <td>False</td>\n",
       "      <td>False</td>\n",
       "      <td>False</td>\n",
       "      <td>False</td>\n",
       "      <td>Day</td>\n",
       "      <td>Day</td>\n",
       "      <td>Day</td>\n",
       "      <td>Day</td>\n",
       "    </tr>\n",
       "    <tr>\n",
       "      <th>3513613</th>\n",
       "      <td>A-3513777</td>\n",
       "      <td>Bing</td>\n",
       "      <td>NaN</td>\n",
       "      <td>2</td>\n",
       "      <td>2019-08-23 19:11:30</td>\n",
       "      <td>2019-08-23 19:38:23</td>\n",
       "      <td>32.766960</td>\n",
       "      <td>-117.148060</td>\n",
       "      <td>32.76555</td>\n",
       "      <td>-117.15363</td>\n",
       "      <td>...</td>\n",
       "      <td>False</td>\n",
       "      <td>False</td>\n",
       "      <td>False</td>\n",
       "      <td>False</td>\n",
       "      <td>False</td>\n",
       "      <td>False</td>\n",
       "      <td>Day</td>\n",
       "      <td>Day</td>\n",
       "      <td>Day</td>\n",
       "      <td>Day</td>\n",
       "    </tr>\n",
       "    <tr>\n",
       "      <th>3513614</th>\n",
       "      <td>A-3513778</td>\n",
       "      <td>Bing</td>\n",
       "      <td>NaN</td>\n",
       "      <td>2</td>\n",
       "      <td>2019-08-23 19:00:21</td>\n",
       "      <td>2019-08-23 19:28:49</td>\n",
       "      <td>33.775450</td>\n",
       "      <td>-117.847790</td>\n",
       "      <td>33.77740</td>\n",
       "      <td>-117.85727</td>\n",
       "      <td>...</td>\n",
       "      <td>False</td>\n",
       "      <td>False</td>\n",
       "      <td>False</td>\n",
       "      <td>False</td>\n",
       "      <td>False</td>\n",
       "      <td>False</td>\n",
       "      <td>Day</td>\n",
       "      <td>Day</td>\n",
       "      <td>Day</td>\n",
       "      <td>Day</td>\n",
       "    </tr>\n",
       "    <tr>\n",
       "      <th>3513615</th>\n",
       "      <td>A-3513779</td>\n",
       "      <td>Bing</td>\n",
       "      <td>NaN</td>\n",
       "      <td>2</td>\n",
       "      <td>2019-08-23 19:00:21</td>\n",
       "      <td>2019-08-23 19:29:42</td>\n",
       "      <td>33.992460</td>\n",
       "      <td>-118.403020</td>\n",
       "      <td>33.98311</td>\n",
       "      <td>-118.39565</td>\n",
       "      <td>...</td>\n",
       "      <td>False</td>\n",
       "      <td>False</td>\n",
       "      <td>False</td>\n",
       "      <td>False</td>\n",
       "      <td>False</td>\n",
       "      <td>False</td>\n",
       "      <td>Day</td>\n",
       "      <td>Day</td>\n",
       "      <td>Day</td>\n",
       "      <td>Day</td>\n",
       "    </tr>\n",
       "    <tr>\n",
       "      <th>3513616</th>\n",
       "      <td>A-3513780</td>\n",
       "      <td>Bing</td>\n",
       "      <td>NaN</td>\n",
       "      <td>2</td>\n",
       "      <td>2019-08-23 18:52:06</td>\n",
       "      <td>2019-08-23 19:21:31</td>\n",
       "      <td>34.133930</td>\n",
       "      <td>-117.230920</td>\n",
       "      <td>34.13736</td>\n",
       "      <td>-117.23934</td>\n",
       "      <td>...</td>\n",
       "      <td>False</td>\n",
       "      <td>False</td>\n",
       "      <td>False</td>\n",
       "      <td>False</td>\n",
       "      <td>False</td>\n",
       "      <td>False</td>\n",
       "      <td>Day</td>\n",
       "      <td>Day</td>\n",
       "      <td>Day</td>\n",
       "      <td>Day</td>\n",
       "    </tr>\n",
       "  </tbody>\n",
       "</table>\n",
       "<p>3513617 rows × 49 columns</p>\n",
       "</div>"
      ],
      "text/plain": [
       "                ID    Source    TMC  Severity           Start_Time  \\\n",
       "0              A-1  MapQuest  201.0         3  2016-02-08 05:46:00   \n",
       "1              A-2  MapQuest  201.0         2  2016-02-08 06:07:59   \n",
       "2              A-3  MapQuest  201.0         2  2016-02-08 06:49:27   \n",
       "3              A-4  MapQuest  201.0         3  2016-02-08 07:23:34   \n",
       "4              A-5  MapQuest  201.0         2  2016-02-08 07:39:07   \n",
       "...            ...       ...    ...       ...                  ...   \n",
       "3513612  A-3513776      Bing    NaN         2  2019-08-23 18:03:25   \n",
       "3513613  A-3513777      Bing    NaN         2  2019-08-23 19:11:30   \n",
       "3513614  A-3513778      Bing    NaN         2  2019-08-23 19:00:21   \n",
       "3513615  A-3513779      Bing    NaN         2  2019-08-23 19:00:21   \n",
       "3513616  A-3513780      Bing    NaN         2  2019-08-23 18:52:06   \n",
       "\n",
       "                    End_Time  Start_Lat   Start_Lng   End_Lat    End_Lng  ...  \\\n",
       "0        2016-02-08 11:00:00  39.865147  -84.058723       NaN        NaN  ...   \n",
       "1        2016-02-08 06:37:59  39.928059  -82.831184       NaN        NaN  ...   \n",
       "2        2016-02-08 07:19:27  39.063148  -84.032608       NaN        NaN  ...   \n",
       "3        2016-02-08 07:53:34  39.747753  -84.205582       NaN        NaN  ...   \n",
       "4        2016-02-08 08:09:07  39.627781  -84.188354       NaN        NaN  ...   \n",
       "...                      ...        ...         ...       ...        ...  ...   \n",
       "3513612  2019-08-23 18:32:01  34.002480 -117.379360  33.99888 -117.37094  ...   \n",
       "3513613  2019-08-23 19:38:23  32.766960 -117.148060  32.76555 -117.15363  ...   \n",
       "3513614  2019-08-23 19:28:49  33.775450 -117.847790  33.77740 -117.85727  ...   \n",
       "3513615  2019-08-23 19:29:42  33.992460 -118.403020  33.98311 -118.39565  ...   \n",
       "3513616  2019-08-23 19:21:31  34.133930 -117.230920  34.13736 -117.23934  ...   \n",
       "\n",
       "         Roundabout Station   Stop Traffic_Calming Traffic_Signal  \\\n",
       "0             False   False  False           False          False   \n",
       "1             False   False  False           False          False   \n",
       "2             False   False  False           False           True   \n",
       "3             False   False  False           False          False   \n",
       "4             False   False  False           False           True   \n",
       "...             ...     ...    ...             ...            ...   \n",
       "3513612       False   False  False           False          False   \n",
       "3513613       False   False  False           False          False   \n",
       "3513614       False   False  False           False          False   \n",
       "3513615       False   False  False           False          False   \n",
       "3513616       False   False  False           False          False   \n",
       "\n",
       "        Turning_Loop Sunrise_Sunset Civil_Twilight Nautical_Twilight  \\\n",
       "0              False          Night          Night             Night   \n",
       "1              False          Night          Night             Night   \n",
       "2              False          Night          Night               Day   \n",
       "3              False          Night            Day               Day   \n",
       "4              False            Day            Day               Day   \n",
       "...              ...            ...            ...               ...   \n",
       "3513612        False            Day            Day               Day   \n",
       "3513613        False            Day            Day               Day   \n",
       "3513614        False            Day            Day               Day   \n",
       "3513615        False            Day            Day               Day   \n",
       "3513616        False            Day            Day               Day   \n",
       "\n",
       "        Astronomical_Twilight  \n",
       "0                       Night  \n",
       "1                         Day  \n",
       "2                         Day  \n",
       "3                         Day  \n",
       "4                         Day  \n",
       "...                       ...  \n",
       "3513612                   Day  \n",
       "3513613                   Day  \n",
       "3513614                   Day  \n",
       "3513615                   Day  \n",
       "3513616                   Day  \n",
       "\n",
       "[3513617 rows x 49 columns]"
      ]
     },
     "execution_count": 2,
     "metadata": {},
     "output_type": "execute_result"
    }
   ],
   "source": [
    "df=pd.read_csv('US_Accidents_June20.csv')\n",
    "df"
   ]
  },
  {
   "cell_type": "code",
   "execution_count": 3,
   "id": "973c6ff0",
   "metadata": {
    "hidden": true
   },
   "outputs": [
    {
     "data": {
      "text/html": [
       "<div>\n",
       "<style scoped>\n",
       "    .dataframe tbody tr th:only-of-type {\n",
       "        vertical-align: middle;\n",
       "    }\n",
       "\n",
       "    .dataframe tbody tr th {\n",
       "        vertical-align: top;\n",
       "    }\n",
       "\n",
       "    .dataframe thead th {\n",
       "        text-align: right;\n",
       "    }\n",
       "</style>\n",
       "<table border=\"1\" class=\"dataframe\">\n",
       "  <thead>\n",
       "    <tr style=\"text-align: right;\">\n",
       "      <th></th>\n",
       "      <th>TMC</th>\n",
       "      <th>Severity</th>\n",
       "      <th>Start_Lat</th>\n",
       "      <th>Start_Lng</th>\n",
       "      <th>End_Lat</th>\n",
       "      <th>End_Lng</th>\n",
       "      <th>Distance(mi)</th>\n",
       "      <th>Number</th>\n",
       "      <th>Temperature(F)</th>\n",
       "      <th>Wind_Chill(F)</th>\n",
       "      <th>Humidity(%)</th>\n",
       "      <th>Pressure(in)</th>\n",
       "      <th>Visibility(mi)</th>\n",
       "      <th>Wind_Speed(mph)</th>\n",
       "      <th>Precipitation(in)</th>\n",
       "    </tr>\n",
       "  </thead>\n",
       "  <tbody>\n",
       "    <tr>\n",
       "      <th>count</th>\n",
       "      <td>2.478818e+06</td>\n",
       "      <td>3.513617e+06</td>\n",
       "      <td>3.513617e+06</td>\n",
       "      <td>3.513617e+06</td>\n",
       "      <td>1.034799e+06</td>\n",
       "      <td>1.034799e+06</td>\n",
       "      <td>3.513617e+06</td>\n",
       "      <td>1.250753e+06</td>\n",
       "      <td>3.447885e+06</td>\n",
       "      <td>1.645368e+06</td>\n",
       "      <td>3.443930e+06</td>\n",
       "      <td>3.457735e+06</td>\n",
       "      <td>3.437761e+06</td>\n",
       "      <td>3.059008e+06</td>\n",
       "      <td>1.487743e+06</td>\n",
       "    </tr>\n",
       "    <tr>\n",
       "      <th>mean</th>\n",
       "      <td>2.080226e+02</td>\n",
       "      <td>2.339929e+00</td>\n",
       "      <td>3.654195e+01</td>\n",
       "      <td>-9.579151e+01</td>\n",
       "      <td>3.755758e+01</td>\n",
       "      <td>-1.004560e+02</td>\n",
       "      <td>2.816167e-01</td>\n",
       "      <td>5.975383e+03</td>\n",
       "      <td>6.193512e+01</td>\n",
       "      <td>5.355730e+01</td>\n",
       "      <td>6.511427e+01</td>\n",
       "      <td>2.974463e+01</td>\n",
       "      <td>9.122644e+00</td>\n",
       "      <td>8.219025e+00</td>\n",
       "      <td>1.598256e-02</td>\n",
       "    </tr>\n",
       "    <tr>\n",
       "      <th>std</th>\n",
       "      <td>2.076627e+01</td>\n",
       "      <td>5.521935e-01</td>\n",
       "      <td>4.883520e+00</td>\n",
       "      <td>1.736877e+01</td>\n",
       "      <td>4.861215e+00</td>\n",
       "      <td>1.852879e+01</td>\n",
       "      <td>1.550134e+00</td>\n",
       "      <td>1.496624e+04</td>\n",
       "      <td>1.862106e+01</td>\n",
       "      <td>2.377334e+01</td>\n",
       "      <td>2.275558e+01</td>\n",
       "      <td>8.319758e-01</td>\n",
       "      <td>2.885879e+00</td>\n",
       "      <td>5.262847e+00</td>\n",
       "      <td>1.928262e-01</td>\n",
       "    </tr>\n",
       "    <tr>\n",
       "      <th>min</th>\n",
       "      <td>2.000000e+02</td>\n",
       "      <td>1.000000e+00</td>\n",
       "      <td>2.455527e+01</td>\n",
       "      <td>-1.246238e+02</td>\n",
       "      <td>2.457011e+01</td>\n",
       "      <td>-1.244978e+02</td>\n",
       "      <td>0.000000e+00</td>\n",
       "      <td>0.000000e+00</td>\n",
       "      <td>-8.900000e+01</td>\n",
       "      <td>-8.900000e+01</td>\n",
       "      <td>1.000000e+00</td>\n",
       "      <td>0.000000e+00</td>\n",
       "      <td>0.000000e+00</td>\n",
       "      <td>0.000000e+00</td>\n",
       "      <td>0.000000e+00</td>\n",
       "    </tr>\n",
       "    <tr>\n",
       "      <th>25%</th>\n",
       "      <td>2.010000e+02</td>\n",
       "      <td>2.000000e+00</td>\n",
       "      <td>3.363784e+01</td>\n",
       "      <td>-1.174418e+02</td>\n",
       "      <td>3.399477e+01</td>\n",
       "      <td>-1.183440e+02</td>\n",
       "      <td>0.000000e+00</td>\n",
       "      <td>8.640000e+02</td>\n",
       "      <td>5.000000e+01</td>\n",
       "      <td>3.570000e+01</td>\n",
       "      <td>4.800000e+01</td>\n",
       "      <td>2.973000e+01</td>\n",
       "      <td>1.000000e+01</td>\n",
       "      <td>5.000000e+00</td>\n",
       "      <td>0.000000e+00</td>\n",
       "    </tr>\n",
       "    <tr>\n",
       "      <th>50%</th>\n",
       "      <td>2.010000e+02</td>\n",
       "      <td>2.000000e+00</td>\n",
       "      <td>3.591687e+01</td>\n",
       "      <td>-9.102601e+01</td>\n",
       "      <td>3.779736e+01</td>\n",
       "      <td>-9.703438e+01</td>\n",
       "      <td>0.000000e+00</td>\n",
       "      <td>2.798000e+03</td>\n",
       "      <td>6.400000e+01</td>\n",
       "      <td>5.700000e+01</td>\n",
       "      <td>6.700000e+01</td>\n",
       "      <td>2.995000e+01</td>\n",
       "      <td>1.000000e+01</td>\n",
       "      <td>7.000000e+00</td>\n",
       "      <td>0.000000e+00</td>\n",
       "    </tr>\n",
       "    <tr>\n",
       "      <th>75%</th>\n",
       "      <td>2.010000e+02</td>\n",
       "      <td>3.000000e+00</td>\n",
       "      <td>4.032217e+01</td>\n",
       "      <td>-8.093299e+01</td>\n",
       "      <td>4.105139e+01</td>\n",
       "      <td>-8.210168e+01</td>\n",
       "      <td>1.000000e-02</td>\n",
       "      <td>7.098000e+03</td>\n",
       "      <td>7.590000e+01</td>\n",
       "      <td>7.200000e+01</td>\n",
       "      <td>8.400000e+01</td>\n",
       "      <td>3.009000e+01</td>\n",
       "      <td>1.000000e+01</td>\n",
       "      <td>1.150000e+01</td>\n",
       "      <td>0.000000e+00</td>\n",
       "    </tr>\n",
       "    <tr>\n",
       "      <th>max</th>\n",
       "      <td>4.060000e+02</td>\n",
       "      <td>4.000000e+00</td>\n",
       "      <td>4.900220e+01</td>\n",
       "      <td>-6.711317e+01</td>\n",
       "      <td>4.907500e+01</td>\n",
       "      <td>-6.710924e+01</td>\n",
       "      <td>3.336300e+02</td>\n",
       "      <td>9.999997e+06</td>\n",
       "      <td>1.706000e+02</td>\n",
       "      <td>1.150000e+02</td>\n",
       "      <td>1.000000e+02</td>\n",
       "      <td>5.774000e+01</td>\n",
       "      <td>1.400000e+02</td>\n",
       "      <td>9.840000e+02</td>\n",
       "      <td>2.500000e+01</td>\n",
       "    </tr>\n",
       "  </tbody>\n",
       "</table>\n",
       "</div>"
      ],
      "text/plain": [
       "                TMC      Severity     Start_Lat     Start_Lng       End_Lat  \\\n",
       "count  2.478818e+06  3.513617e+06  3.513617e+06  3.513617e+06  1.034799e+06   \n",
       "mean   2.080226e+02  2.339929e+00  3.654195e+01 -9.579151e+01  3.755758e+01   \n",
       "std    2.076627e+01  5.521935e-01  4.883520e+00  1.736877e+01  4.861215e+00   \n",
       "min    2.000000e+02  1.000000e+00  2.455527e+01 -1.246238e+02  2.457011e+01   \n",
       "25%    2.010000e+02  2.000000e+00  3.363784e+01 -1.174418e+02  3.399477e+01   \n",
       "50%    2.010000e+02  2.000000e+00  3.591687e+01 -9.102601e+01  3.779736e+01   \n",
       "75%    2.010000e+02  3.000000e+00  4.032217e+01 -8.093299e+01  4.105139e+01   \n",
       "max    4.060000e+02  4.000000e+00  4.900220e+01 -6.711317e+01  4.907500e+01   \n",
       "\n",
       "            End_Lng  Distance(mi)        Number  Temperature(F)  \\\n",
       "count  1.034799e+06  3.513617e+06  1.250753e+06    3.447885e+06   \n",
       "mean  -1.004560e+02  2.816167e-01  5.975383e+03    6.193512e+01   \n",
       "std    1.852879e+01  1.550134e+00  1.496624e+04    1.862106e+01   \n",
       "min   -1.244978e+02  0.000000e+00  0.000000e+00   -8.900000e+01   \n",
       "25%   -1.183440e+02  0.000000e+00  8.640000e+02    5.000000e+01   \n",
       "50%   -9.703438e+01  0.000000e+00  2.798000e+03    6.400000e+01   \n",
       "75%   -8.210168e+01  1.000000e-02  7.098000e+03    7.590000e+01   \n",
       "max   -6.710924e+01  3.336300e+02  9.999997e+06    1.706000e+02   \n",
       "\n",
       "       Wind_Chill(F)   Humidity(%)  Pressure(in)  Visibility(mi)  \\\n",
       "count   1.645368e+06  3.443930e+06  3.457735e+06    3.437761e+06   \n",
       "mean    5.355730e+01  6.511427e+01  2.974463e+01    9.122644e+00   \n",
       "std     2.377334e+01  2.275558e+01  8.319758e-01    2.885879e+00   \n",
       "min    -8.900000e+01  1.000000e+00  0.000000e+00    0.000000e+00   \n",
       "25%     3.570000e+01  4.800000e+01  2.973000e+01    1.000000e+01   \n",
       "50%     5.700000e+01  6.700000e+01  2.995000e+01    1.000000e+01   \n",
       "75%     7.200000e+01  8.400000e+01  3.009000e+01    1.000000e+01   \n",
       "max     1.150000e+02  1.000000e+02  5.774000e+01    1.400000e+02   \n",
       "\n",
       "       Wind_Speed(mph)  Precipitation(in)  \n",
       "count     3.059008e+06       1.487743e+06  \n",
       "mean      8.219025e+00       1.598256e-02  \n",
       "std       5.262847e+00       1.928262e-01  \n",
       "min       0.000000e+00       0.000000e+00  \n",
       "25%       5.000000e+00       0.000000e+00  \n",
       "50%       7.000000e+00       0.000000e+00  \n",
       "75%       1.150000e+01       0.000000e+00  \n",
       "max       9.840000e+02       2.500000e+01  "
      ]
     },
     "execution_count": 3,
     "metadata": {},
     "output_type": "execute_result"
    }
   ],
   "source": [
    "df.describe()"
   ]
  },
  {
   "cell_type": "code",
   "execution_count": 4,
   "id": "aa98fc3d",
   "metadata": {
    "hidden": true
   },
   "outputs": [
    {
     "name": "stdout",
     "output_type": "stream",
     "text": [
      "<class 'pandas.core.frame.DataFrame'>\n",
      "RangeIndex: 3513617 entries, 0 to 3513616\n",
      "Data columns (total 49 columns):\n",
      " #   Column                 Dtype  \n",
      "---  ------                 -----  \n",
      " 0   ID                     object \n",
      " 1   Source                 object \n",
      " 2   TMC                    float64\n",
      " 3   Severity               int64  \n",
      " 4   Start_Time             object \n",
      " 5   End_Time               object \n",
      " 6   Start_Lat              float64\n",
      " 7   Start_Lng              float64\n",
      " 8   End_Lat                float64\n",
      " 9   End_Lng                float64\n",
      " 10  Distance(mi)           float64\n",
      " 11  Description            object \n",
      " 12  Number                 float64\n",
      " 13  Street                 object \n",
      " 14  Side                   object \n",
      " 15  City                   object \n",
      " 16  County                 object \n",
      " 17  State                  object \n",
      " 18  Zipcode                object \n",
      " 19  Country                object \n",
      " 20  Timezone               object \n",
      " 21  Airport_Code           object \n",
      " 22  Weather_Timestamp      object \n",
      " 23  Temperature(F)         float64\n",
      " 24  Wind_Chill(F)          float64\n",
      " 25  Humidity(%)            float64\n",
      " 26  Pressure(in)           float64\n",
      " 27  Visibility(mi)         float64\n",
      " 28  Wind_Direction         object \n",
      " 29  Wind_Speed(mph)        float64\n",
      " 30  Precipitation(in)      float64\n",
      " 31  Weather_Condition      object \n",
      " 32  Amenity                bool   \n",
      " 33  Bump                   bool   \n",
      " 34  Crossing               bool   \n",
      " 35  Give_Way               bool   \n",
      " 36  Junction               bool   \n",
      " 37  No_Exit                bool   \n",
      " 38  Railway                bool   \n",
      " 39  Roundabout             bool   \n",
      " 40  Station                bool   \n",
      " 41  Stop                   bool   \n",
      " 42  Traffic_Calming        bool   \n",
      " 43  Traffic_Signal         bool   \n",
      " 44  Turning_Loop           bool   \n",
      " 45  Sunrise_Sunset         object \n",
      " 46  Civil_Twilight         object \n",
      " 47  Nautical_Twilight      object \n",
      " 48  Astronomical_Twilight  object \n",
      "dtypes: bool(13), float64(14), int64(1), object(21)\n",
      "memory usage: 1008.6+ MB\n"
     ]
    }
   ],
   "source": [
    "df.info()"
   ]
  },
  {
   "cell_type": "markdown",
   "id": "7940d36d",
   "metadata": {
    "heading_collapsed": true
   },
   "source": [
    "## Cleaning data "
   ]
  },
  {
   "cell_type": "code",
   "execution_count": 5,
   "id": "306b0757",
   "metadata": {
    "hidden": true
   },
   "outputs": [],
   "source": [
    "df1=df.copy()"
   ]
  },
  {
   "cell_type": "code",
   "execution_count": 6,
   "id": "ec830c7c",
   "metadata": {
    "hidden": true
   },
   "outputs": [],
   "source": [
    "df1=df1.select_dtypes(include=['float64','object','int64'])"
   ]
  },
  {
   "cell_type": "code",
   "execution_count": 7,
   "id": "c0840007",
   "metadata": {
    "hidden": true
   },
   "outputs": [
    {
     "name": "stdout",
     "output_type": "stream",
     "text": [
      "<class 'pandas.core.frame.DataFrame'>\n",
      "RangeIndex: 3513617 entries, 0 to 3513616\n",
      "Data columns (total 36 columns):\n",
      " #   Column                 Dtype  \n",
      "---  ------                 -----  \n",
      " 0   ID                     object \n",
      " 1   Source                 object \n",
      " 2   TMC                    float64\n",
      " 3   Severity               int64  \n",
      " 4   Start_Time             object \n",
      " 5   End_Time               object \n",
      " 6   Start_Lat              float64\n",
      " 7   Start_Lng              float64\n",
      " 8   End_Lat                float64\n",
      " 9   End_Lng                float64\n",
      " 10  Distance(mi)           float64\n",
      " 11  Description            object \n",
      " 12  Number                 float64\n",
      " 13  Street                 object \n",
      " 14  Side                   object \n",
      " 15  City                   object \n",
      " 16  County                 object \n",
      " 17  State                  object \n",
      " 18  Zipcode                object \n",
      " 19  Country                object \n",
      " 20  Timezone               object \n",
      " 21  Airport_Code           object \n",
      " 22  Weather_Timestamp      object \n",
      " 23  Temperature(F)         float64\n",
      " 24  Wind_Chill(F)          float64\n",
      " 25  Humidity(%)            float64\n",
      " 26  Pressure(in)           float64\n",
      " 27  Visibility(mi)         float64\n",
      " 28  Wind_Direction         object \n",
      " 29  Wind_Speed(mph)        float64\n",
      " 30  Precipitation(in)      float64\n",
      " 31  Weather_Condition      object \n",
      " 32  Sunrise_Sunset         object \n",
      " 33  Civil_Twilight         object \n",
      " 34  Nautical_Twilight      object \n",
      " 35  Astronomical_Twilight  object \n",
      "dtypes: float64(14), int64(1), object(21)\n",
      "memory usage: 965.0+ MB\n"
     ]
    }
   ],
   "source": [
    "df1.info()"
   ]
  },
  {
   "cell_type": "code",
   "execution_count": 8,
   "id": "0a7a7886",
   "metadata": {
    "hidden": true
   },
   "outputs": [],
   "source": [
    "colsdf=['ID',\n",
    " 'Severity',\n",
    " 'Start_Time',\n",
    " 'End_Time',\n",
    " 'Start_Lat',\n",
    " 'Start_Lng',\n",
    " 'Distance(mi)',\n",
    " 'Street',\n",
    " 'City',\n",
    " 'County',\n",
    " 'State',\n",
    " 'Zipcode',\n",
    " 'Timezone',\n",
    " 'Temperature(F)',\n",
    " 'Visibility(mi)',\n",
    " 'Wind_Direction',\n",
    " 'Wind_Speed(mph)',\n",
    " 'Weather_Condition',\n",
    " 'Sunrise_Sunset',\n",
    " 'Civil_Twilight',\n",
    " 'Nautical_Twilight',\n",
    " 'Astronomical_Twilight']"
   ]
  },
  {
   "cell_type": "code",
   "execution_count": 9,
   "id": "4f6722e7",
   "metadata": {
    "hidden": true
   },
   "outputs": [],
   "source": [
    "df1=df1.loc[:,colsdf]"
   ]
  },
  {
   "cell_type": "code",
   "execution_count": 10,
   "id": "bbbda926",
   "metadata": {
    "hidden": true
   },
   "outputs": [
    {
     "name": "stdout",
     "output_type": "stream",
     "text": [
      "<class 'pandas.core.frame.DataFrame'>\n",
      "RangeIndex: 3513617 entries, 0 to 3513616\n",
      "Data columns (total 22 columns):\n",
      " #   Column                 Dtype  \n",
      "---  ------                 -----  \n",
      " 0   ID                     object \n",
      " 1   Severity               int64  \n",
      " 2   Start_Time             object \n",
      " 3   End_Time               object \n",
      " 4   Start_Lat              float64\n",
      " 5   Start_Lng              float64\n",
      " 6   Distance(mi)           float64\n",
      " 7   Street                 object \n",
      " 8   City                   object \n",
      " 9   County                 object \n",
      " 10  State                  object \n",
      " 11  Zipcode                object \n",
      " 12  Timezone               object \n",
      " 13  Temperature(F)         float64\n",
      " 14  Visibility(mi)         float64\n",
      " 15  Wind_Direction         object \n",
      " 16  Wind_Speed(mph)        float64\n",
      " 17  Weather_Condition      object \n",
      " 18  Sunrise_Sunset         object \n",
      " 19  Civil_Twilight         object \n",
      " 20  Nautical_Twilight      object \n",
      " 21  Astronomical_Twilight  object \n",
      "dtypes: float64(6), int64(1), object(15)\n",
      "memory usage: 589.7+ MB\n"
     ]
    }
   ],
   "source": [
    "df1.info()"
   ]
  },
  {
   "cell_type": "code",
   "execution_count": 11,
   "id": "a457823c",
   "metadata": {
    "hidden": true
   },
   "outputs": [
    {
     "data": {
      "text/plain": [
       "0.0068141746809626666"
      ]
     },
     "execution_count": 11,
     "metadata": {},
     "output_type": "execute_result"
    }
   ],
   "source": [
    "df1['Wind_Speed(mph)'][df1['Wind_Speed(mph)'] >70].sum()/len(df1)"
   ]
  },
  {
   "cell_type": "code",
   "execution_count": 12,
   "id": "15747d9f",
   "metadata": {
    "hidden": true
   },
   "outputs": [],
   "source": [
    "colsdf1=['ID',\n",
    " 'Severity',\n",
    " 'Start_Time',\n",
    " 'End_Time',\n",
    " 'Start_Lat',\n",
    " 'Start_Lng',\n",
    " 'Distance(mi)',\n",
    " 'Street',\n",
    " 'City',\n",
    " 'County',\n",
    " 'State',\n",
    " 'Zipcode',\n",
    " 'Timezone',\n",
    " 'Temperature(F)',\n",
    " 'Visibility(mi)',\n",
    " 'Wind_Direction',\n",
    " 'Weather_Condition',\n",
    " 'Sunrise_Sunset',\n",
    " 'Civil_Twilight',\n",
    " 'Nautical_Twilight',\n",
    " 'Astronomical_Twilight']"
   ]
  },
  {
   "cell_type": "code",
   "execution_count": 13,
   "id": "1c2fec7c",
   "metadata": {
    "hidden": true
   },
   "outputs": [
    {
     "name": "stdout",
     "output_type": "stream",
     "text": [
      "<class 'pandas.core.frame.DataFrame'>\n",
      "RangeIndex: 3513617 entries, 0 to 3513616\n",
      "Data columns (total 22 columns):\n",
      " #   Column                 Dtype  \n",
      "---  ------                 -----  \n",
      " 0   ID                     object \n",
      " 1   Severity               int64  \n",
      " 2   Start_Time             object \n",
      " 3   End_Time               object \n",
      " 4   Start_Lat              float64\n",
      " 5   Start_Lng              float64\n",
      " 6   Distance(mi)           float64\n",
      " 7   Street                 object \n",
      " 8   City                   object \n",
      " 9   County                 object \n",
      " 10  State                  object \n",
      " 11  Zipcode                object \n",
      " 12  Timezone               object \n",
      " 13  Temperature(F)         float64\n",
      " 14  Visibility(mi)         float64\n",
      " 15  Wind_Direction         object \n",
      " 16  Wind_Speed(mph)        float64\n",
      " 17  Weather_Condition      object \n",
      " 18  Sunrise_Sunset         object \n",
      " 19  Civil_Twilight         object \n",
      " 20  Nautical_Twilight      object \n",
      " 21  Astronomical_Twilight  object \n",
      "dtypes: float64(6), int64(1), object(15)\n",
      "memory usage: 589.7+ MB\n"
     ]
    }
   ],
   "source": [
    "df1.info()"
   ]
  },
  {
   "cell_type": "code",
   "execution_count": 14,
   "id": "1e190a90",
   "metadata": {
    "hidden": true
   },
   "outputs": [],
   "source": [
    "df1=df1.dropna(subset=colsdf1, axis=0)"
   ]
  },
  {
   "cell_type": "code",
   "execution_count": 15,
   "id": "0aed43b8",
   "metadata": {
    "hidden": true
   },
   "outputs": [
    {
     "name": "stdout",
     "output_type": "stream",
     "text": [
      "<class 'pandas.core.frame.DataFrame'>\n",
      "Int64Index: 3409475 entries, 0 to 3513616\n",
      "Data columns (total 22 columns):\n",
      " #   Column                 Dtype  \n",
      "---  ------                 -----  \n",
      " 0   ID                     object \n",
      " 1   Severity               int64  \n",
      " 2   Start_Time             object \n",
      " 3   End_Time               object \n",
      " 4   Start_Lat              float64\n",
      " 5   Start_Lng              float64\n",
      " 6   Distance(mi)           float64\n",
      " 7   Street                 object \n",
      " 8   City                   object \n",
      " 9   County                 object \n",
      " 10  State                  object \n",
      " 11  Zipcode                object \n",
      " 12  Timezone               object \n",
      " 13  Temperature(F)         float64\n",
      " 14  Visibility(mi)         float64\n",
      " 15  Wind_Direction         object \n",
      " 16  Wind_Speed(mph)        float64\n",
      " 17  Weather_Condition      object \n",
      " 18  Sunrise_Sunset         object \n",
      " 19  Civil_Twilight         object \n",
      " 20  Nautical_Twilight      object \n",
      " 21  Astronomical_Twilight  object \n",
      "dtypes: float64(6), int64(1), object(15)\n",
      "memory usage: 598.3+ MB\n"
     ]
    }
   ],
   "source": [
    "df1.info()"
   ]
  },
  {
   "cell_type": "code",
   "execution_count": 16,
   "id": "dba5e460",
   "metadata": {
    "hidden": true
   },
   "outputs": [],
   "source": [
    "df1['Start_Time']=pd.to_datetime(df1['Start_Time'])"
   ]
  },
  {
   "cell_type": "code",
   "execution_count": 17,
   "id": "ec3c341c",
   "metadata": {
    "hidden": true
   },
   "outputs": [],
   "source": [
    "df1['End_Time']=pd.to_datetime(df1['End_Time'])"
   ]
  },
  {
   "cell_type": "code",
   "execution_count": 18,
   "id": "83d0e1c7",
   "metadata": {
    "hidden": true
   },
   "outputs": [
    {
     "name": "stdout",
     "output_type": "stream",
     "text": [
      "<class 'pandas.core.frame.DataFrame'>\n",
      "Int64Index: 3409475 entries, 0 to 3513616\n",
      "Data columns (total 22 columns):\n",
      " #   Column                 Dtype         \n",
      "---  ------                 -----         \n",
      " 0   ID                     object        \n",
      " 1   Severity               int64         \n",
      " 2   Start_Time             datetime64[ns]\n",
      " 3   End_Time               datetime64[ns]\n",
      " 4   Start_Lat              float64       \n",
      " 5   Start_Lng              float64       \n",
      " 6   Distance(mi)           float64       \n",
      " 7   Street                 object        \n",
      " 8   City                   object        \n",
      " 9   County                 object        \n",
      " 10  State                  object        \n",
      " 11  Zipcode                object        \n",
      " 12  Timezone               object        \n",
      " 13  Temperature(F)         float64       \n",
      " 14  Visibility(mi)         float64       \n",
      " 15  Wind_Direction         object        \n",
      " 16  Wind_Speed(mph)        float64       \n",
      " 17  Weather_Condition      object        \n",
      " 18  Sunrise_Sunset         object        \n",
      " 19  Civil_Twilight         object        \n",
      " 20  Nautical_Twilight      object        \n",
      " 21  Astronomical_Twilight  object        \n",
      "dtypes: datetime64[ns](2), float64(6), int64(1), object(13)\n",
      "memory usage: 598.3+ MB\n"
     ]
    }
   ],
   "source": [
    "df1.info()"
   ]
  },
  {
   "cell_type": "code",
   "execution_count": 19,
   "id": "a46e5f69",
   "metadata": {
    "hidden": true
   },
   "outputs": [
    {
     "data": {
      "text/plain": [
       "0.11029322696309549"
      ]
     },
     "execution_count": 19,
     "metadata": {},
     "output_type": "execute_result"
    }
   ],
   "source": [
    "df1['Wind_Speed(mph)'].isnull().sum()/len(df1)"
   ]
  },
  {
   "cell_type": "code",
   "execution_count": 20,
   "id": "aa34c050",
   "metadata": {
    "hidden": true
   },
   "outputs": [
    {
     "data": {
      "text/plain": [
       "count    3.033433e+06\n",
       "mean     8.219152e+00\n",
       "std      5.245874e+00\n",
       "min      0.000000e+00\n",
       "25%      5.000000e+00\n",
       "50%      7.000000e+00\n",
       "75%      1.150000e+01\n",
       "max      9.840000e+02\n",
       "Name: Wind_Speed(mph), dtype: float64"
      ]
     },
     "execution_count": 20,
     "metadata": {},
     "output_type": "execute_result"
    }
   ],
   "source": [
    "df1['Wind_Speed(mph)'].describe()"
   ]
  },
  {
   "cell_type": "code",
   "execution_count": 21,
   "id": "3b965533",
   "metadata": {
    "hidden": true
   },
   "outputs": [],
   "source": [
    "import seaborn as sns"
   ]
  },
  {
   "cell_type": "markdown",
   "id": "3655bb56",
   "metadata": {
    "heading_collapsed": true
   },
   "source": [
    "## Dealing with outliers"
   ]
  },
  {
   "cell_type": "code",
   "execution_count": 22,
   "id": "43098032",
   "metadata": {
    "hidden": true
   },
   "outputs": [],
   "source": [
    "# anything above 73 mph is considered a hurricane - drop all values above 100\n",
    "false_observations = df1['Wind_Speed(mph)'][df1['Wind_Speed(mph)']>100]\n",
    "false_observations=false_observations.index"
   ]
  },
  {
   "cell_type": "code",
   "execution_count": 23,
   "id": "0d02c616",
   "metadata": {
    "hidden": true
   },
   "outputs": [],
   "source": [
    "df1 = df1.drop(false_observations).reset_index(drop=True)"
   ]
  },
  {
   "cell_type": "code",
   "execution_count": 24,
   "id": "5be3d1e6",
   "metadata": {
    "hidden": true
   },
   "outputs": [
    {
     "data": {
      "text/plain": [
       "<AxesSubplot:xlabel='Wind_Speed(mph)'>"
      ]
     },
     "execution_count": 24,
     "metadata": {},
     "output_type": "execute_result"
    },
    {
     "data": {
      "image/png": "[encoded data removed]",
      "text/plain": [
       "<Figure size 432x288 with 1 Axes>"
      ]
     },
     "metadata": {
      "needs_background": "light"
     },
     "output_type": "display_data"
    }
   ],
   "source": [
    "sns.boxplot(data=df1, x='Wind_Speed(mph)')"
   ]
  },
  {
   "cell_type": "code",
   "execution_count": 25,
   "id": "5ca29f9a",
   "metadata": {
    "hidden": true
   },
   "outputs": [],
   "source": [
    "# impute missing values with median\n",
    "df1['Wind_Speed(mph)'] = df1['Wind_Speed(mph)'].fillna(df1['Wind_Speed(mph)'].median())"
   ]
  },
  {
   "cell_type": "code",
   "execution_count": 26,
   "id": "d2f51448",
   "metadata": {
    "hidden": true
   },
   "outputs": [],
   "source": [
    "# anything outside -80 & 134 is impossible so remove from df\n",
    "false_observations_temp_max = df1['Temperature(F)'][df1['Temperature(F)']>134]\n",
    "false_observations_temp_max =false_observations_temp_max.index"
   ]
  },
  {
   "cell_type": "code",
   "execution_count": 27,
   "id": "43e7056a",
   "metadata": {
    "hidden": true
   },
   "outputs": [],
   "source": [
    "df1 = df1.drop(false_observations_temp_max).reset_index(drop=True)"
   ]
  },
  {
   "cell_type": "code",
   "execution_count": 28,
   "id": "9551d1f5",
   "metadata": {
    "hidden": true
   },
   "outputs": [],
   "source": [
    "# anything outside -80 & 134 is impossible so remove from df\n",
    "false_observations_temp_min = df1['Temperature(F)'][df1['Temperature(F)']<-80]\n",
    "false_observations_temp_min =false_observations_temp_min.index"
   ]
  },
  {
   "cell_type": "code",
   "execution_count": 29,
   "id": "e93bbbcd",
   "metadata": {
    "hidden": true
   },
   "outputs": [],
   "source": [
    "df1 = df1.drop(false_observations_temp_min).reset_index(drop=True)"
   ]
  },
  {
   "cell_type": "code",
   "execution_count": 30,
   "id": "18ba5e8b",
   "metadata": {
    "hidden": true
   },
   "outputs": [
    {
     "name": "stdout",
     "output_type": "stream",
     "text": [
      "<class 'pandas.core.frame.DataFrame'>\n",
      "RangeIndex: 3409365 entries, 0 to 3409364\n",
      "Data columns (total 22 columns):\n",
      " #   Column                 Dtype         \n",
      "---  ------                 -----         \n",
      " 0   ID                     object        \n",
      " 1   Severity               int64         \n",
      " 2   Start_Time             datetime64[ns]\n",
      " 3   End_Time               datetime64[ns]\n",
      " 4   Start_Lat              float64       \n",
      " 5   Start_Lng              float64       \n",
      " 6   Distance(mi)           float64       \n",
      " 7   Street                 object        \n",
      " 8   City                   object        \n",
      " 9   County                 object        \n",
      " 10  State                  object        \n",
      " 11  Zipcode                object        \n",
      " 12  Timezone               object        \n",
      " 13  Temperature(F)         float64       \n",
      " 14  Visibility(mi)         float64       \n",
      " 15  Wind_Direction         object        \n",
      " 16  Wind_Speed(mph)        float64       \n",
      " 17  Weather_Condition      object        \n",
      " 18  Sunrise_Sunset         object        \n",
      " 19  Civil_Twilight         object        \n",
      " 20  Nautical_Twilight      object        \n",
      " 21  Astronomical_Twilight  object        \n",
      "dtypes: datetime64[ns](2), float64(6), int64(1), object(13)\n",
      "memory usage: 572.3+ MB\n"
     ]
    }
   ],
   "source": [
    "df1.info()"
   ]
  },
  {
   "cell_type": "code",
   "execution_count": 31,
   "id": "0443c4ed",
   "metadata": {
    "hidden": true
   },
   "outputs": [
    {
     "data": {
      "text/plain": [
       "<AxesSubplot:xlabel='Distance(mi)'>"
      ]
     },
     "execution_count": 31,
     "metadata": {},
     "output_type": "execute_result"
    },
    {
     "data": {
      "image/png": "[encoded data removed]",
      "text/plain": [
       "<Figure size 432x288 with 1 Axes>"
      ]
     },
     "metadata": {
      "needs_background": "light"
     },
     "output_type": "display_data"
    }
   ],
   "source": [
    "#checking distance for outliers\n",
    "sns.boxplot(data=df1, x='Distance(mi)')"
   ]
  },
  {
   "cell_type": "code",
   "execution_count": 32,
   "id": "b5cd88aa",
   "metadata": {
    "hidden": true
   },
   "outputs": [],
   "source": [
    "# no longer traffic jams than 100 miles ever recorded in US - drop all outliers\n",
    "false_obs_distance = df1['Distance(mi)'][df1['Distance(mi)']>100]\n",
    "false_obs_distance = false_obs_distance.index"
   ]
  },
  {
   "cell_type": "code",
   "execution_count": 33,
   "id": "92bec927",
   "metadata": {
    "hidden": true
   },
   "outputs": [],
   "source": [
    "df1 = df1.drop(false_obs_distance).reset_index(drop=True)"
   ]
  },
  {
   "cell_type": "code",
   "execution_count": 34,
   "id": "dcebcd05",
   "metadata": {
    "hidden": true
   },
   "outputs": [
    {
     "data": {
      "text/plain": [
       "<AxesSubplot:xlabel='Visibility(mi)'>"
      ]
     },
     "execution_count": 34,
     "metadata": {},
     "output_type": "execute_result"
    },
    {
     "data": {
      "image/png": "[encoded data removed]",
      "text/plain": [
       "<Figure size 432x288 with 1 Axes>"
      ]
     },
     "metadata": {
      "needs_background": "light"
     },
     "output_type": "display_data"
    }
   ],
   "source": [
    "sns.boxplot(data=df1, x='Visibility(mi)')"
   ]
  },
  {
   "cell_type": "markdown",
   "id": "edc0bc64",
   "metadata": {
    "heading_collapsed": true
   },
   "source": [
    "## drop duplicates"
   ]
  },
  {
   "cell_type": "code",
   "execution_count": 35,
   "id": "12bd2c6d",
   "metadata": {
    "hidden": true
   },
   "outputs": [
    {
     "data": {
      "text/html": [
       "<div>\n",
       "<style scoped>\n",
       "    .dataframe tbody tr th:only-of-type {\n",
       "        vertical-align: middle;\n",
       "    }\n",
       "\n",
       "    .dataframe tbody tr th {\n",
       "        vertical-align: top;\n",
       "    }\n",
       "\n",
       "    .dataframe thead th {\n",
       "        text-align: right;\n",
       "    }\n",
       "</style>\n",
       "<table border=\"1\" class=\"dataframe\">\n",
       "  <thead>\n",
       "    <tr style=\"text-align: right;\">\n",
       "      <th></th>\n",
       "      <th>ID</th>\n",
       "      <th>Severity</th>\n",
       "      <th>Start_Time</th>\n",
       "      <th>End_Time</th>\n",
       "      <th>Start_Lat</th>\n",
       "      <th>Start_Lng</th>\n",
       "      <th>Distance(mi)</th>\n",
       "      <th>Street</th>\n",
       "      <th>City</th>\n",
       "      <th>County</th>\n",
       "      <th>...</th>\n",
       "      <th>Timezone</th>\n",
       "      <th>Temperature(F)</th>\n",
       "      <th>Visibility(mi)</th>\n",
       "      <th>Wind_Direction</th>\n",
       "      <th>Wind_Speed(mph)</th>\n",
       "      <th>Weather_Condition</th>\n",
       "      <th>Sunrise_Sunset</th>\n",
       "      <th>Civil_Twilight</th>\n",
       "      <th>Nautical_Twilight</th>\n",
       "      <th>Astronomical_Twilight</th>\n",
       "    </tr>\n",
       "  </thead>\n",
       "  <tbody>\n",
       "    <tr>\n",
       "      <th>0</th>\n",
       "      <td>A-1</td>\n",
       "      <td>3</td>\n",
       "      <td>2016-02-08 05:46:00</td>\n",
       "      <td>2016-02-08 11:00:00</td>\n",
       "      <td>39.865147</td>\n",
       "      <td>-84.058723</td>\n",
       "      <td>0.010</td>\n",
       "      <td>I-70 E</td>\n",
       "      <td>Dayton</td>\n",
       "      <td>Montgomery</td>\n",
       "      <td>...</td>\n",
       "      <td>US/Eastern</td>\n",
       "      <td>36.9</td>\n",
       "      <td>10.0</td>\n",
       "      <td>Calm</td>\n",
       "      <td>7.0</td>\n",
       "      <td>Light Rain</td>\n",
       "      <td>Night</td>\n",
       "      <td>Night</td>\n",
       "      <td>Night</td>\n",
       "      <td>Night</td>\n",
       "    </tr>\n",
       "    <tr>\n",
       "      <th>1</th>\n",
       "      <td>A-2</td>\n",
       "      <td>2</td>\n",
       "      <td>2016-02-08 06:07:59</td>\n",
       "      <td>2016-02-08 06:37:59</td>\n",
       "      <td>39.928059</td>\n",
       "      <td>-82.831184</td>\n",
       "      <td>0.010</td>\n",
       "      <td>Brice Rd</td>\n",
       "      <td>Reynoldsburg</td>\n",
       "      <td>Franklin</td>\n",
       "      <td>...</td>\n",
       "      <td>US/Eastern</td>\n",
       "      <td>37.9</td>\n",
       "      <td>10.0</td>\n",
       "      <td>Calm</td>\n",
       "      <td>7.0</td>\n",
       "      <td>Light Rain</td>\n",
       "      <td>Night</td>\n",
       "      <td>Night</td>\n",
       "      <td>Night</td>\n",
       "      <td>Day</td>\n",
       "    </tr>\n",
       "    <tr>\n",
       "      <th>2</th>\n",
       "      <td>A-3</td>\n",
       "      <td>2</td>\n",
       "      <td>2016-02-08 06:49:27</td>\n",
       "      <td>2016-02-08 07:19:27</td>\n",
       "      <td>39.063148</td>\n",
       "      <td>-84.032608</td>\n",
       "      <td>0.010</td>\n",
       "      <td>State Route 32</td>\n",
       "      <td>Williamsburg</td>\n",
       "      <td>Clermont</td>\n",
       "      <td>...</td>\n",
       "      <td>US/Eastern</td>\n",
       "      <td>36.0</td>\n",
       "      <td>10.0</td>\n",
       "      <td>SW</td>\n",
       "      <td>3.5</td>\n",
       "      <td>Overcast</td>\n",
       "      <td>Night</td>\n",
       "      <td>Night</td>\n",
       "      <td>Day</td>\n",
       "      <td>Day</td>\n",
       "    </tr>\n",
       "    <tr>\n",
       "      <th>3</th>\n",
       "      <td>A-4</td>\n",
       "      <td>3</td>\n",
       "      <td>2016-02-08 07:23:34</td>\n",
       "      <td>2016-02-08 07:53:34</td>\n",
       "      <td>39.747753</td>\n",
       "      <td>-84.205582</td>\n",
       "      <td>0.010</td>\n",
       "      <td>I-75 S</td>\n",
       "      <td>Dayton</td>\n",
       "      <td>Montgomery</td>\n",
       "      <td>...</td>\n",
       "      <td>US/Eastern</td>\n",
       "      <td>35.1</td>\n",
       "      <td>9.0</td>\n",
       "      <td>SW</td>\n",
       "      <td>4.6</td>\n",
       "      <td>Mostly Cloudy</td>\n",
       "      <td>Night</td>\n",
       "      <td>Day</td>\n",
       "      <td>Day</td>\n",
       "      <td>Day</td>\n",
       "    </tr>\n",
       "    <tr>\n",
       "      <th>4</th>\n",
       "      <td>A-5</td>\n",
       "      <td>2</td>\n",
       "      <td>2016-02-08 07:39:07</td>\n",
       "      <td>2016-02-08 08:09:07</td>\n",
       "      <td>39.627781</td>\n",
       "      <td>-84.188354</td>\n",
       "      <td>0.010</td>\n",
       "      <td>Miamisburg Centerville Rd</td>\n",
       "      <td>Dayton</td>\n",
       "      <td>Montgomery</td>\n",
       "      <td>...</td>\n",
       "      <td>US/Eastern</td>\n",
       "      <td>36.0</td>\n",
       "      <td>6.0</td>\n",
       "      <td>SW</td>\n",
       "      <td>3.5</td>\n",
       "      <td>Mostly Cloudy</td>\n",
       "      <td>Day</td>\n",
       "      <td>Day</td>\n",
       "      <td>Day</td>\n",
       "      <td>Day</td>\n",
       "    </tr>\n",
       "    <tr>\n",
       "      <th>...</th>\n",
       "      <td>...</td>\n",
       "      <td>...</td>\n",
       "      <td>...</td>\n",
       "      <td>...</td>\n",
       "      <td>...</td>\n",
       "      <td>...</td>\n",
       "      <td>...</td>\n",
       "      <td>...</td>\n",
       "      <td>...</td>\n",
       "      <td>...</td>\n",
       "      <td>...</td>\n",
       "      <td>...</td>\n",
       "      <td>...</td>\n",
       "      <td>...</td>\n",
       "      <td>...</td>\n",
       "      <td>...</td>\n",
       "      <td>...</td>\n",
       "      <td>...</td>\n",
       "      <td>...</td>\n",
       "      <td>...</td>\n",
       "      <td>...</td>\n",
       "    </tr>\n",
       "    <tr>\n",
       "      <th>3409320</th>\n",
       "      <td>A-3513776</td>\n",
       "      <td>2</td>\n",
       "      <td>2019-08-23 18:03:25</td>\n",
       "      <td>2019-08-23 18:32:01</td>\n",
       "      <td>34.002480</td>\n",
       "      <td>-117.379360</td>\n",
       "      <td>0.543</td>\n",
       "      <td>Pomona Fwy E</td>\n",
       "      <td>Riverside</td>\n",
       "      <td>Riverside</td>\n",
       "      <td>...</td>\n",
       "      <td>US/Pacific</td>\n",
       "      <td>86.0</td>\n",
       "      <td>10.0</td>\n",
       "      <td>W</td>\n",
       "      <td>13.0</td>\n",
       "      <td>Fair</td>\n",
       "      <td>Day</td>\n",
       "      <td>Day</td>\n",
       "      <td>Day</td>\n",
       "      <td>Day</td>\n",
       "    </tr>\n",
       "    <tr>\n",
       "      <th>3409321</th>\n",
       "      <td>A-3513777</td>\n",
       "      <td>2</td>\n",
       "      <td>2019-08-23 19:11:30</td>\n",
       "      <td>2019-08-23 19:38:23</td>\n",
       "      <td>32.766960</td>\n",
       "      <td>-117.148060</td>\n",
       "      <td>0.338</td>\n",
       "      <td>I-8 W</td>\n",
       "      <td>San Diego</td>\n",
       "      <td>San Diego</td>\n",
       "      <td>...</td>\n",
       "      <td>US/Pacific</td>\n",
       "      <td>70.0</td>\n",
       "      <td>10.0</td>\n",
       "      <td>SW</td>\n",
       "      <td>6.0</td>\n",
       "      <td>Fair</td>\n",
       "      <td>Day</td>\n",
       "      <td>Day</td>\n",
       "      <td>Day</td>\n",
       "      <td>Day</td>\n",
       "    </tr>\n",
       "    <tr>\n",
       "      <th>3409322</th>\n",
       "      <td>A-3513778</td>\n",
       "      <td>2</td>\n",
       "      <td>2019-08-23 19:00:21</td>\n",
       "      <td>2019-08-23 19:28:49</td>\n",
       "      <td>33.775450</td>\n",
       "      <td>-117.847790</td>\n",
       "      <td>0.561</td>\n",
       "      <td>Garden Grove Fwy</td>\n",
       "      <td>Orange</td>\n",
       "      <td>Orange</td>\n",
       "      <td>...</td>\n",
       "      <td>US/Pacific</td>\n",
       "      <td>73.0</td>\n",
       "      <td>10.0</td>\n",
       "      <td>SSW</td>\n",
       "      <td>10.0</td>\n",
       "      <td>Partly Cloudy</td>\n",
       "      <td>Day</td>\n",
       "      <td>Day</td>\n",
       "      <td>Day</td>\n",
       "      <td>Day</td>\n",
       "    </tr>\n",
       "    <tr>\n",
       "      <th>3409323</th>\n",
       "      <td>A-3513779</td>\n",
       "      <td>2</td>\n",
       "      <td>2019-08-23 19:00:21</td>\n",
       "      <td>2019-08-23 19:29:42</td>\n",
       "      <td>33.992460</td>\n",
       "      <td>-118.403020</td>\n",
       "      <td>0.772</td>\n",
       "      <td>San Diego Fwy S</td>\n",
       "      <td>Culver City</td>\n",
       "      <td>Los Angeles</td>\n",
       "      <td>...</td>\n",
       "      <td>US/Pacific</td>\n",
       "      <td>71.0</td>\n",
       "      <td>10.0</td>\n",
       "      <td>SW</td>\n",
       "      <td>8.0</td>\n",
       "      <td>Fair</td>\n",
       "      <td>Day</td>\n",
       "      <td>Day</td>\n",
       "      <td>Day</td>\n",
       "      <td>Day</td>\n",
       "    </tr>\n",
       "    <tr>\n",
       "      <th>3409324</th>\n",
       "      <td>A-3513780</td>\n",
       "      <td>2</td>\n",
       "      <td>2019-08-23 18:52:06</td>\n",
       "      <td>2019-08-23 19:21:31</td>\n",
       "      <td>34.133930</td>\n",
       "      <td>-117.230920</td>\n",
       "      <td>0.537</td>\n",
       "      <td>CA-210 W</td>\n",
       "      <td>Highland</td>\n",
       "      <td>San Bernardino</td>\n",
       "      <td>...</td>\n",
       "      <td>US/Pacific</td>\n",
       "      <td>79.0</td>\n",
       "      <td>7.0</td>\n",
       "      <td>SW</td>\n",
       "      <td>7.0</td>\n",
       "      <td>Fair</td>\n",
       "      <td>Day</td>\n",
       "      <td>Day</td>\n",
       "      <td>Day</td>\n",
       "      <td>Day</td>\n",
       "    </tr>\n",
       "  </tbody>\n",
       "</table>\n",
       "<p>3409325 rows × 22 columns</p>\n",
       "</div>"
      ],
      "text/plain": [
       "                ID  Severity          Start_Time            End_Time  \\\n",
       "0              A-1         3 2016-02-08 05:46:00 2016-02-08 11:00:00   \n",
       "1              A-2         2 2016-02-08 06:07:59 2016-02-08 06:37:59   \n",
       "2              A-3         2 2016-02-08 06:49:27 2016-02-08 07:19:27   \n",
       "3              A-4         3 2016-02-08 07:23:34 2016-02-08 07:53:34   \n",
       "4              A-5         2 2016-02-08 07:39:07 2016-02-08 08:09:07   \n",
       "...            ...       ...                 ...                 ...   \n",
       "3409320  A-3513776         2 2019-08-23 18:03:25 2019-08-23 18:32:01   \n",
       "3409321  A-3513777         2 2019-08-23 19:11:30 2019-08-23 19:38:23   \n",
       "3409322  A-3513778         2 2019-08-23 19:00:21 2019-08-23 19:28:49   \n",
       "3409323  A-3513779         2 2019-08-23 19:00:21 2019-08-23 19:29:42   \n",
       "3409324  A-3513780         2 2019-08-23 18:52:06 2019-08-23 19:21:31   \n",
       "\n",
       "         Start_Lat   Start_Lng  Distance(mi)                     Street  \\\n",
       "0        39.865147  -84.058723         0.010                     I-70 E   \n",
       "1        39.928059  -82.831184         0.010                   Brice Rd   \n",
       "2        39.063148  -84.032608         0.010             State Route 32   \n",
       "3        39.747753  -84.205582         0.010                     I-75 S   \n",
       "4        39.627781  -84.188354         0.010  Miamisburg Centerville Rd   \n",
       "...            ...         ...           ...                        ...   \n",
       "3409320  34.002480 -117.379360         0.543               Pomona Fwy E   \n",
       "3409321  32.766960 -117.148060         0.338                      I-8 W   \n",
       "3409322  33.775450 -117.847790         0.561           Garden Grove Fwy   \n",
       "3409323  33.992460 -118.403020         0.772            San Diego Fwy S   \n",
       "3409324  34.133930 -117.230920         0.537                   CA-210 W   \n",
       "\n",
       "                 City          County  ...    Timezone Temperature(F)  \\\n",
       "0              Dayton      Montgomery  ...  US/Eastern           36.9   \n",
       "1        Reynoldsburg        Franklin  ...  US/Eastern           37.9   \n",
       "2        Williamsburg        Clermont  ...  US/Eastern           36.0   \n",
       "3              Dayton      Montgomery  ...  US/Eastern           35.1   \n",
       "4              Dayton      Montgomery  ...  US/Eastern           36.0   \n",
       "...               ...             ...  ...         ...            ...   \n",
       "3409320     Riverside       Riverside  ...  US/Pacific           86.0   \n",
       "3409321     San Diego       San Diego  ...  US/Pacific           70.0   \n",
       "3409322        Orange          Orange  ...  US/Pacific           73.0   \n",
       "3409323   Culver City     Los Angeles  ...  US/Pacific           71.0   \n",
       "3409324      Highland  San Bernardino  ...  US/Pacific           79.0   \n",
       "\n",
       "        Visibility(mi)  Wind_Direction  Wind_Speed(mph) Weather_Condition  \\\n",
       "0                 10.0            Calm              7.0        Light Rain   \n",
       "1                 10.0            Calm              7.0        Light Rain   \n",
       "2                 10.0              SW              3.5          Overcast   \n",
       "3                  9.0              SW              4.6     Mostly Cloudy   \n",
       "4                  6.0              SW              3.5     Mostly Cloudy   \n",
       "...                ...             ...              ...               ...   \n",
       "3409320           10.0               W             13.0              Fair   \n",
       "3409321           10.0              SW              6.0              Fair   \n",
       "3409322           10.0             SSW             10.0     Partly Cloudy   \n",
       "3409323           10.0              SW              8.0              Fair   \n",
       "3409324            7.0              SW              7.0              Fair   \n",
       "\n",
       "         Sunrise_Sunset Civil_Twilight Nautical_Twilight Astronomical_Twilight  \n",
       "0                 Night          Night             Night                 Night  \n",
       "1                 Night          Night             Night                   Day  \n",
       "2                 Night          Night               Day                   Day  \n",
       "3                 Night            Day               Day                   Day  \n",
       "4                   Day            Day               Day                   Day  \n",
       "...                 ...            ...               ...                   ...  \n",
       "3409320             Day            Day               Day                   Day  \n",
       "3409321             Day            Day               Day                   Day  \n",
       "3409322             Day            Day               Day                   Day  \n",
       "3409323             Day            Day               Day                   Day  \n",
       "3409324             Day            Day               Day                   Day  \n",
       "\n",
       "[3409325 rows x 22 columns]"
      ]
     },
     "execution_count": 35,
     "metadata": {},
     "output_type": "execute_result"
    }
   ],
   "source": [
    "df1.drop_duplicates()"
   ]
  },
  {
   "cell_type": "code",
   "execution_count": 36,
   "id": "155a0367",
   "metadata": {
    "hidden": true
   },
   "outputs": [],
   "source": [
    "## note : check if we need to do IQR later on"
   ]
  },
  {
   "cell_type": "markdown",
   "id": "61530168",
   "metadata": {
    "heading_collapsed": true
   },
   "source": [
    "## stripping strings in Street column"
   ]
  },
  {
   "cell_type": "code",
   "execution_count": 37,
   "id": "e24b9a61",
   "metadata": {
    "hidden": true
   },
   "outputs": [
    {
     "name": "stdout",
     "output_type": "stream",
     "text": [
      "<class 'pandas.core.frame.DataFrame'>\n",
      "RangeIndex: 3409325 entries, 0 to 3409324\n",
      "Data columns (total 22 columns):\n",
      " #   Column                 Dtype         \n",
      "---  ------                 -----         \n",
      " 0   ID                     object        \n",
      " 1   Severity               int64         \n",
      " 2   Start_Time             datetime64[ns]\n",
      " 3   End_Time               datetime64[ns]\n",
      " 4   Start_Lat              float64       \n",
      " 5   Start_Lng              float64       \n",
      " 6   Distance(mi)           float64       \n",
      " 7   Street                 object        \n",
      " 8   City                   object        \n",
      " 9   County                 object        \n",
      " 10  State                  object        \n",
      " 11  Zipcode                object        \n",
      " 12  Timezone               object        \n",
      " 13  Temperature(F)         float64       \n",
      " 14  Visibility(mi)         float64       \n",
      " 15  Wind_Direction         object        \n",
      " 16  Wind_Speed(mph)        float64       \n",
      " 17  Weather_Condition      object        \n",
      " 18  Sunrise_Sunset         object        \n",
      " 19  Civil_Twilight         object        \n",
      " 20  Nautical_Twilight      object        \n",
      " 21  Astronomical_Twilight  object        \n",
      "dtypes: datetime64[ns](2), float64(6), int64(1), object(13)\n",
      "memory usage: 572.2+ MB\n"
     ]
    }
   ],
   "source": [
    "df1.info()"
   ]
  },
  {
   "cell_type": "markdown",
   "id": "dac2d64b",
   "metadata": {
    "heading_collapsed": true
   },
   "source": [
    "## Dealing with strings"
   ]
  },
  {
   "cell_type": "code",
   "execution_count": 38,
   "id": "e60c06a5",
   "metadata": {
    "hidden": true
   },
   "outputs": [],
   "source": [
    "#stripping all strings (objects)\n",
    "df1[\"Street\"] = df1[\"Street\"].map(str.strip)\n",
    "df1[\"City\"] = df1[\"City\"].map(str.strip)\n",
    "df1[\"County\"] = df1[\"County\"].map(str.strip)\n",
    "df1[\"State\"] = df1[\"State\"].map(str.strip)\n",
    "df1[\"Zipcode\"] = df1[\"Zipcode\"].map(str.strip)\n",
    "df1[\"Timezone\"] = df1[\"Timezone\"].map(str.strip)\n",
    "df1[\"Wind_Direction\"] = df1[\"Wind_Direction\"].map(str.strip)\n",
    "df1[\"Nautical_Twilight\"] = df1[\"Nautical_Twilight\"].map(str.strip)\n",
    "df1[\"Sunrise_Sunset\"] = df1[\"Sunrise_Sunset\"].map(str.strip)\n",
    "df1[\"Weather_Condition\"] = df1[\"Weather_Condition\"].map(str.strip)\n",
    "df1[\"Civil_Twilight\"] = df1[\"Civil_Twilight\"].map(str.strip)\n",
    "df1[\"Astronomical_Twilight\"] = df1[\"Astronomical_Twilight\"].map(str.strip)\n",
    "df1[\"ID\"] = df1[\"ID\"].map(str.strip)"
   ]
  },
  {
   "cell_type": "code",
   "execution_count": 39,
   "id": "e4df1dd6",
   "metadata": {
    "hidden": true
   },
   "outputs": [
    {
     "data": {
      "text/plain": [
       "array(['Calm', 'SW', 'SSW', 'WSW', 'WNW', 'NW', 'West', 'NNW', 'NNE',\n",
       "       'South', 'North', 'Variable', 'SE', 'SSE', 'ESE', 'East', 'NE',\n",
       "       'ENE', 'E', 'W', 'S', 'VAR', 'CALM', 'N'], dtype=object)"
      ]
     },
     "execution_count": 39,
     "metadata": {},
     "output_type": "execute_result"
    }
   ],
   "source": [
    "## Dealing with wind_direction values\n",
    "df1['Wind_Direction'].unique()"
   ]
  },
  {
   "cell_type": "code",
   "execution_count": 48,
   "id": "b0dedee8",
   "metadata": {
    "hidden": true
   },
   "outputs": [],
   "source": [
    "df1.replace(to_replace='N', value='North', inplace=True)\n",
    "df1.replace(to_replace='E', value='East', inplace=True)\n",
    "df1.replace(to_replace='S', value='South', inplace=True)\n",
    "df1.replace(to_replace='W', value='West', inplace=True)\n",
    "df1.replace(to_replace='VAR', value='Variable', inplace=True)\n",
    "df1.replace(to_replace='CALM', value='Calm', inplace=True)"
   ]
  },
  {
   "cell_type": "code",
   "execution_count": 53,
   "id": "2708e160",
   "metadata": {
    "hidden": true
   },
   "outputs": [
    {
     "data": {
      "text/plain": [
       "array(['Calm', 'SW', 'SSW', 'WSW', 'WNW', 'NW', 'West', 'NNW', 'NNE',\n",
       "       'South', 'North', 'Variable', 'SE', 'SSE', 'ESE', 'East', 'NE',\n",
       "       'ENE'], dtype=object)"
      ]
     },
     "execution_count": 53,
     "metadata": {},
     "output_type": "execute_result"
    }
   ],
   "source": [
    "df1['Wind_Direction'].unique()"
   ]
  },
  {
   "cell_type": "code",
   "execution_count": 62,
   "id": "fb8a7327",
   "metadata": {
    "hidden": true
   },
   "outputs": [],
   "source": [
    "## everyting lower caps\n",
    "df1 = df1.apply(lambda x: x.astype(str).str.lower())"
   ]
  },
  {
   "cell_type": "code",
   "execution_count": 63,
   "id": "70905c98",
   "metadata": {
    "hidden": true
   },
   "outputs": [
    {
     "data": {
      "text/html": [
       "<div>\n",
       "<style scoped>\n",
       "    .dataframe tbody tr th:only-of-type {\n",
       "        vertical-align: middle;\n",
       "    }\n",
       "\n",
       "    .dataframe tbody tr th {\n",
       "        vertical-align: top;\n",
       "    }\n",
       "\n",
       "    .dataframe thead th {\n",
       "        text-align: right;\n",
       "    }\n",
       "</style>\n",
       "<table border=\"1\" class=\"dataframe\">\n",
       "  <thead>\n",
       "    <tr style=\"text-align: right;\">\n",
       "      <th></th>\n",
       "      <th>ID</th>\n",
       "      <th>Severity</th>\n",
       "      <th>Start_Time</th>\n",
       "      <th>End_Time</th>\n",
       "      <th>Start_Lat</th>\n",
       "      <th>Start_Lng</th>\n",
       "      <th>Distance(mi)</th>\n",
       "      <th>Street</th>\n",
       "      <th>City</th>\n",
       "      <th>County</th>\n",
       "      <th>...</th>\n",
       "      <th>Timezone</th>\n",
       "      <th>Temperature(F)</th>\n",
       "      <th>Visibility(mi)</th>\n",
       "      <th>Wind_Direction</th>\n",
       "      <th>Wind_Speed(mph)</th>\n",
       "      <th>Weather_Condition</th>\n",
       "      <th>Sunrise_Sunset</th>\n",
       "      <th>Civil_Twilight</th>\n",
       "      <th>Nautical_Twilight</th>\n",
       "      <th>Astronomical_Twilight</th>\n",
       "    </tr>\n",
       "  </thead>\n",
       "  <tbody>\n",
       "    <tr>\n",
       "      <th>0</th>\n",
       "      <td>a-1</td>\n",
       "      <td>3</td>\n",
       "      <td>2016-02-08 05:46:00</td>\n",
       "      <td>2016-02-08 11:00:00</td>\n",
       "      <td>39.865147</td>\n",
       "      <td>-84.058723</td>\n",
       "      <td>0.01</td>\n",
       "      <td>i-70 e</td>\n",
       "      <td>dayton</td>\n",
       "      <td>montgomery</td>\n",
       "      <td>...</td>\n",
       "      <td>us/eastern</td>\n",
       "      <td>36.9</td>\n",
       "      <td>10.0</td>\n",
       "      <td>calm</td>\n",
       "      <td>7.0</td>\n",
       "      <td>light rain</td>\n",
       "      <td>night</td>\n",
       "      <td>night</td>\n",
       "      <td>night</td>\n",
       "      <td>night</td>\n",
       "    </tr>\n",
       "    <tr>\n",
       "      <th>1</th>\n",
       "      <td>a-2</td>\n",
       "      <td>2</td>\n",
       "      <td>2016-02-08 06:07:59</td>\n",
       "      <td>2016-02-08 06:37:59</td>\n",
       "      <td>39.928059</td>\n",
       "      <td>-82.831184</td>\n",
       "      <td>0.01</td>\n",
       "      <td>brice rd</td>\n",
       "      <td>reynoldsburg</td>\n",
       "      <td>franklin</td>\n",
       "      <td>...</td>\n",
       "      <td>us/eastern</td>\n",
       "      <td>37.9</td>\n",
       "      <td>10.0</td>\n",
       "      <td>calm</td>\n",
       "      <td>7.0</td>\n",
       "      <td>light rain</td>\n",
       "      <td>night</td>\n",
       "      <td>night</td>\n",
       "      <td>night</td>\n",
       "      <td>day</td>\n",
       "    </tr>\n",
       "    <tr>\n",
       "      <th>2</th>\n",
       "      <td>a-3</td>\n",
       "      <td>2</td>\n",
       "      <td>2016-02-08 06:49:27</td>\n",
       "      <td>2016-02-08 07:19:27</td>\n",
       "      <td>39.063148</td>\n",
       "      <td>-84.032608</td>\n",
       "      <td>0.01</td>\n",
       "      <td>state route 32</td>\n",
       "      <td>williamsburg</td>\n",
       "      <td>clermont</td>\n",
       "      <td>...</td>\n",
       "      <td>us/eastern</td>\n",
       "      <td>36.0</td>\n",
       "      <td>10.0</td>\n",
       "      <td>sw</td>\n",
       "      <td>3.5</td>\n",
       "      <td>overcast</td>\n",
       "      <td>night</td>\n",
       "      <td>night</td>\n",
       "      <td>day</td>\n",
       "      <td>day</td>\n",
       "    </tr>\n",
       "    <tr>\n",
       "      <th>3</th>\n",
       "      <td>a-4</td>\n",
       "      <td>3</td>\n",
       "      <td>2016-02-08 07:23:34</td>\n",
       "      <td>2016-02-08 07:53:34</td>\n",
       "      <td>39.747753</td>\n",
       "      <td>-84.205582</td>\n",
       "      <td>0.01</td>\n",
       "      <td>i-75 s</td>\n",
       "      <td>dayton</td>\n",
       "      <td>montgomery</td>\n",
       "      <td>...</td>\n",
       "      <td>us/eastern</td>\n",
       "      <td>35.1</td>\n",
       "      <td>9.0</td>\n",
       "      <td>sw</td>\n",
       "      <td>4.6</td>\n",
       "      <td>mostly cloudy</td>\n",
       "      <td>night</td>\n",
       "      <td>day</td>\n",
       "      <td>day</td>\n",
       "      <td>day</td>\n",
       "    </tr>\n",
       "    <tr>\n",
       "      <th>4</th>\n",
       "      <td>a-5</td>\n",
       "      <td>2</td>\n",
       "      <td>2016-02-08 07:39:07</td>\n",
       "      <td>2016-02-08 08:09:07</td>\n",
       "      <td>39.627781</td>\n",
       "      <td>-84.188354</td>\n",
       "      <td>0.01</td>\n",
       "      <td>miamisburg centerville rd</td>\n",
       "      <td>dayton</td>\n",
       "      <td>montgomery</td>\n",
       "      <td>...</td>\n",
       "      <td>us/eastern</td>\n",
       "      <td>36.0</td>\n",
       "      <td>6.0</td>\n",
       "      <td>sw</td>\n",
       "      <td>3.5</td>\n",
       "      <td>mostly cloudy</td>\n",
       "      <td>day</td>\n",
       "      <td>day</td>\n",
       "      <td>day</td>\n",
       "      <td>day</td>\n",
       "    </tr>\n",
       "  </tbody>\n",
       "</table>\n",
       "<p>5 rows × 22 columns</p>\n",
       "</div>"
      ],
      "text/plain": [
       "    ID Severity           Start_Time             End_Time  Start_Lat  \\\n",
       "0  a-1        3  2016-02-08 05:46:00  2016-02-08 11:00:00  39.865147   \n",
       "1  a-2        2  2016-02-08 06:07:59  2016-02-08 06:37:59  39.928059   \n",
       "2  a-3        2  2016-02-08 06:49:27  2016-02-08 07:19:27  39.063148   \n",
       "3  a-4        3  2016-02-08 07:23:34  2016-02-08 07:53:34  39.747753   \n",
       "4  a-5        2  2016-02-08 07:39:07  2016-02-08 08:09:07  39.627781   \n",
       "\n",
       "    Start_Lng Distance(mi)                     Street          City  \\\n",
       "0  -84.058723         0.01                     i-70 e        dayton   \n",
       "1  -82.831184         0.01                   brice rd  reynoldsburg   \n",
       "2  -84.032608         0.01             state route 32  williamsburg   \n",
       "3  -84.205582         0.01                     i-75 s        dayton   \n",
       "4  -84.188354         0.01  miamisburg centerville rd        dayton   \n",
       "\n",
       "       County  ...    Timezone Temperature(F) Visibility(mi) Wind_Direction  \\\n",
       "0  montgomery  ...  us/eastern           36.9           10.0           calm   \n",
       "1    franklin  ...  us/eastern           37.9           10.0           calm   \n",
       "2    clermont  ...  us/eastern           36.0           10.0             sw   \n",
       "3  montgomery  ...  us/eastern           35.1            9.0             sw   \n",
       "4  montgomery  ...  us/eastern           36.0            6.0             sw   \n",
       "\n",
       "  Wind_Speed(mph) Weather_Condition Sunrise_Sunset Civil_Twilight  \\\n",
       "0             7.0        light rain          night          night   \n",
       "1             7.0        light rain          night          night   \n",
       "2             3.5          overcast          night          night   \n",
       "3             4.6     mostly cloudy          night            day   \n",
       "4             3.5     mostly cloudy            day            day   \n",
       "\n",
       "  Nautical_Twilight Astronomical_Twilight  \n",
       "0             night                 night  \n",
       "1             night                   day  \n",
       "2               day                   day  \n",
       "3               day                   day  \n",
       "4               day                   day  \n",
       "\n",
       "[5 rows x 22 columns]"
      ]
     },
     "execution_count": 63,
     "metadata": {},
     "output_type": "execute_result"
    }
   ],
   "source": [
    "df1.head()"
   ]
  },
  {
   "cell_type": "code",
   "execution_count": 134,
   "id": "d8ae955e",
   "metadata": {
    "hidden": true
   },
   "outputs": [],
   "source": [
    "# replace all types containing 'thunder' to just thunder\n",
    "df1.loc[df1['Weather_Condition'].str.contains('Thunder'), 'Weather_Condition'] = 'thunder'\n",
    "df1.loc[df1['Weather_Condition'].str.contains('thunder'), 'Weather_Condition'] = 'thunder'\n",
    "df1.loc[df1['Weather_Condition'].str.contains('t-'), 'Weather_Condition'] = 'thunder'"
   ]
  },
  {
   "cell_type": "code",
   "execution_count": 135,
   "id": "b40b39c6",
   "metadata": {
    "hidden": true
   },
   "outputs": [],
   "source": [
    "# replace all types containing 'snow' to just snow\n",
    "df1.loc[df1['Weather_Condition'].str.contains('snow'), 'Weather_Condition'] = 'snow'"
   ]
  },
  {
   "cell_type": "code",
   "execution_count": 136,
   "id": "d6af63c9",
   "metadata": {
    "hidden": true
   },
   "outputs": [],
   "source": [
    "# replace all rain types to light, rain or heavy rain\n",
    "df1.loc[df1['Weather_Condition'].str.contains('light freezing rain'), 'Weather_Condition'] = 'light rain'\n",
    "df1.loc[df1['Weather_Condition'].str.contains('light rain showers'), 'Weather_Condition'] = 'light rain'\n",
    "df1.loc[df1['Weather_Condition'].str.contains('rain showers'), 'Weather_Condition'] = 'rain'\n",
    "df1.loc[df1['Weather_Condition'].str.contains('light rain / windy'), 'Weather_Condition'] = 'light rain'\n",
    "df1.loc[df1['Weather_Condition'].str.contains('light rain shower'), 'Weather_Condition'] = 'light rain'\n",
    "df1.loc[df1['Weather_Condition'].str.contains('light rain / windy'), 'Weather_Condition'] = 'light rain'\n",
    "df1.loc[df1['Weather_Condition'].str.contains('heavy freezing rain'), 'Weather_Condition'] = 'heavy rain'\n",
    "df1.loc[df1['Weather_Condition'].str.contains('heavy rain shower'), 'Weather_Condition'] = 'heavy rain'\n",
    "df1.loc[df1['Weather_Condition'].str.contains('freezing rain / windy'), 'Weather_Condition'] = 'rain'\n",
    "df1.loc[df1['Weather_Condition'].str.contains('rain and sleet'), 'Weather_Condition'] = 'rain'\n",
    "df1.loc[df1['Weather_Condition'].str.contains('freezing rain'), 'Weather_Condition'] = 'rain'\n",
    "df1.loc[df1['Weather_Condition'].str.contains('light rain shower / windy'), 'Weather_Condition'] = 'light rain'\n",
    "df1.loc[df1['Weather_Condition'].str.contains('rain shower'), 'Weather_Condition'] = 'rain'\n",
    "df1.loc[df1['Weather_Condition'].str.contains('rain / windy'), 'Weather_Condition'] = 'rain'\n",
    "df1.loc[df1['Weather_Condition'].str.contains('heavy rain / windy'), 'Weather_Condition'] = 'heavy rain'"
   ]
  },
  {
   "cell_type": "code",
   "execution_count": 137,
   "id": "2a7af0e8",
   "metadata": {
    "hidden": true
   },
   "outputs": [],
   "source": [
    "# dealing with drizzle types \n",
    "df1.loc[df1['Weather_Condition'].str.contains('drizzle'), 'Weather_Condition'] = 'drizzle'"
   ]
  },
  {
   "cell_type": "code",
   "execution_count": 140,
   "id": "5edbd6ce",
   "metadata": {
    "hidden": true
   },
   "outputs": [],
   "source": [
    "# dealing with cloudy \n",
    "df1.loc[df1['Weather_Condition'].str.contains('scattered clouds'), 'Weather_Condition'] = 'partly cloudy'\n",
    "df1.loc[df1['Weather_Condition'].str.contains('mostly cloudy'), 'Weather_Condition'] = 'cloudy'\n",
    "df1.loc[df1['Weather_Condition'].str.contains('mostly cloudy / windy'), 'Weather_Condition'] = 'cloudy'\n",
    "df1.loc[df1['Weather_Condition'].str.contains('partly cloudy / windy'), 'Weather_Condition'] = 'partly cloudy'\n",
    "df1.loc[df1['Weather_Condition'].str.contains('funnel cloud'), 'Weather_Condition'] = 'cloudy'\n",
    "df1.loc[df1['Weather_Condition'].str.contains('cloudy / windy'), 'Weather_Condition'] = 'cloudy'"
   ]
  },
  {
   "cell_type": "code",
   "execution_count": 142,
   "id": "88253541",
   "metadata": {
    "hidden": true
   },
   "outputs": [],
   "source": [
    "# dealing with fog\n",
    "df1.loc[df1['Weather_Condition'].str.contains('fog'), 'Weather_Condition'] = 'fog'"
   ]
  },
  {
   "cell_type": "code",
   "execution_count": 144,
   "id": "a6b4bdd6",
   "metadata": {
    "hidden": true
   },
   "outputs": [],
   "source": [
    "# dealing with hail \n",
    "df1.loc[df1['Weather_Condition'].str.contains('hail'), 'Weather_Condition'] = 'hail'"
   ]
  },
  {
   "cell_type": "code",
   "execution_count": 147,
   "id": "eb1ab693",
   "metadata": {
    "hidden": true
   },
   "outputs": [],
   "source": [
    "# dealing with sand and dust \n",
    "df1.loc[df1['Weather_Condition'].str.contains('sand'), 'Weather_Condition'] = 'sand/dust'\n",
    "df1.loc[df1['Weather_Condition'].str.contains('dust'), 'Weather_Condition'] = 'sand/dust'"
   ]
  },
  {
   "cell_type": "code",
   "execution_count": 149,
   "id": "06e69a4a",
   "metadata": {
    "hidden": true
   },
   "outputs": [],
   "source": [
    "#dealing with haze\n",
    "df1.loc[df1['Weather_Condition'].str.contains('haze'), 'Weather_Condition'] = 'haze'"
   ]
  },
  {
   "cell_type": "code",
   "execution_count": 156,
   "id": "1164be30",
   "metadata": {
    "hidden": true
   },
   "outputs": [],
   "source": [
    "df1.loc[df1['Weather_Condition'].str.contains('wintry mix'), 'Weather_Condition'] = 'wintry mix'"
   ]
  },
  {
   "cell_type": "code",
   "execution_count": 157,
   "id": "453a772f",
   "metadata": {
    "hidden": true
   },
   "outputs": [],
   "source": [
    "df1.loc[df1['Weather_Condition'].str.contains('squalls'), 'Weather_Condition'] = 'squalls'"
   ]
  },
  {
   "cell_type": "code",
   "execution_count": 160,
   "id": "915e4412",
   "metadata": {
    "hidden": true
   },
   "outputs": [],
   "source": [
    "df1.loc[df1['Weather_Condition'].str.contains('mist'), 'Weather_Condition'] = 'fog'"
   ]
  },
  {
   "cell_type": "code",
   "execution_count": 163,
   "id": "e99cdf63",
   "metadata": {
    "hidden": true
   },
   "outputs": [],
   "source": [
    "df1.loc[df1['Weather_Condition'].str.contains('fair'), 'Weather_Condition'] = 'fair'"
   ]
  },
  {
   "cell_type": "code",
   "execution_count": 183,
   "id": "a3b9b0c1",
   "metadata": {
    "hidden": true
   },
   "outputs": [],
   "source": [
    "#remove all values that have less than 0.1%\n",
    "toremovefromweather=list(df1['Weather_Condition'].value_counts().tail(17).index)"
   ]
  },
  {
   "cell_type": "code",
   "execution_count": 194,
   "id": "003f987d",
   "metadata": {
    "hidden": true
   },
   "outputs": [],
   "source": [
    "df1 = df1[df1.Weather_Condition.isin(toremovefromweather) == False]"
   ]
  },
  {
   "cell_type": "markdown",
   "id": "422a5359",
   "metadata": {},
   "source": [
    "## plotting & exploration"
   ]
  },
  {
   "cell_type": "code",
   "execution_count": null,
   "id": "6b3b17ee",
   "metadata": {},
   "outputs": [],
   "source": []
  }
 ],
 "metadata": {
  "kernelspec": {
   "display_name": "Python 3 (ipykernel)",
   "language": "python",
   "name": "python3"
  },
  "language_info": {
   "codemirror_mode": {
    "name": "ipython",
    "version": 3
   },
   "file_extension": ".py",
   "mimetype": "text/x-python",
   "name": "python",
   "nbconvert_exporter": "python",
   "pygments_lexer": "ipython3",
   "version": "3.8.13"
  },
  "toc": {
   "base_numbering": 1,
   "nav_menu": {},
   "number_sections": true,
   "sideBar": true,
   "skip_h1_title": false,
   "title_cell": "Table of Contents",
   "title_sidebar": "Contents",
   "toc_cell": false,
   "toc_position": {},
   "toc_section_display": true,
   "toc_window_display": false
  }
 },
 "nbformat": 4,
 "nbformat_minor": 5
}
